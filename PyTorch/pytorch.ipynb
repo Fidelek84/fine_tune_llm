{
 "cells": [
  {
   "cell_type": "code",
   "execution_count": null,
   "id": "8924bd81",
   "metadata": {},
   "outputs": [],
   "source": [
    "import torch"
   ]
  },
  {
   "cell_type": "code",
   "execution_count": null,
   "id": "ab40adf6",
   "metadata": {},
   "outputs": [],
   "source": [
    "torch.cuda.is_available()  # Check if CUDA is available"
   ]
  },
  {
   "cell_type": "code",
   "execution_count": null,
   "id": "7fdc0802",
   "metadata": {},
   "outputs": [],
   "source": [
    "torch.cuda.device_count()  # Get the number of available CUDA devices"
   ]
  },
  {
   "cell_type": "markdown",
   "id": "8f5de94f",
   "metadata": {},
   "source": [
    "# Tensor"
   ]
  },
  {
   "cell_type": "markdown",
   "id": "24272f71",
   "metadata": {},
   "source": [
    "# Scalers 0D tensor\n",
    "# Vectors 1D tensor\n",
    "# Metrices 2D tensor\n",
    "# Higher-dimensional tensor 3D +"
   ]
  },
  {
   "cell_type": "code",
   "execution_count": null,
   "id": "d4b56c3f",
   "metadata": {},
   "outputs": [],
   "source": [
    "data =[1.0, 2.0, 3.0, 4.0]"
   ]
  },
  {
   "cell_type": "code",
   "execution_count": null,
   "id": "570be48f",
   "metadata": {},
   "outputs": [],
   "source": [
    "tensor_from_list = torch.tensor(data)  # Create a tensor from a list"
   ]
  },
  {
   "cell_type": "code",
   "execution_count": null,
   "id": "cd2bc3f9",
   "metadata": {},
   "outputs": [],
   "source": [
    "type(tensor_from_list)  # Check the type of the tensor"
   ]
  },
  {
   "cell_type": "code",
   "execution_count": null,
   "id": "a511bba8",
   "metadata": {},
   "outputs": [],
   "source": [
    "tensor_from_list"
   ]
  },
  {
   "cell_type": "code",
   "execution_count": null,
   "id": "99642674",
   "metadata": {},
   "outputs": [],
   "source": [
    "zero_tensor = torch.zeros(3, 4)  # Create a 2D tensor filled with zeros"
   ]
  },
  {
   "cell_type": "code",
   "execution_count": null,
   "id": "b0228acd",
   "metadata": {},
   "outputs": [],
   "source": [
    "zero_tensor"
   ]
  },
  {
   "cell_type": "code",
   "execution_count": null,
   "id": "fb7ae287",
   "metadata": {},
   "outputs": [],
   "source": [
    "zero_tensor.ndim  # Get the number of dimensions of the tensor"
   ]
  },
  {
   "cell_type": "code",
   "execution_count": null,
   "id": "96c4e363",
   "metadata": {},
   "outputs": [],
   "source": [
    "one_tensor = torch.ones(2, 5)  # Create a 2D tensor filled with ones"
   ]
  },
  {
   "cell_type": "code",
   "execution_count": null,
   "id": "ec0bd678",
   "metadata": {},
   "outputs": [],
   "source": [
    "one_tensor"
   ]
  },
  {
   "cell_type": "code",
   "execution_count": null,
   "id": "0848b68d",
   "metadata": {},
   "outputs": [],
   "source": [
    "random_tensor = torch.rand(3, 4)  # Create a 2D tensor with random values"
   ]
  },
  {
   "cell_type": "code",
   "execution_count": null,
   "id": "c7e80dd1",
   "metadata": {},
   "outputs": [],
   "source": [
    "random_tensor"
   ]
  },
  {
   "cell_type": "code",
   "execution_count": null,
   "id": "1eb7fb00",
   "metadata": {},
   "outputs": [],
   "source": [
    "range_tensor = torch.arange(0, 10)  # Create a 1D tensor with a range"
   ]
  },
  {
   "cell_type": "code",
   "execution_count": null,
   "id": "8e4db679",
   "metadata": {},
   "outputs": [],
   "source": [
    "range_tensor"
   ]
  },
  {
   "cell_type": "code",
   "execution_count": null,
   "id": "93822a35",
   "metadata": {},
   "outputs": [],
   "source": [
    "step_tensor = torch.arange(0, 10, step=2)  # Create a 1D tensor with a specified step"
   ]
  },
  {
   "cell_type": "code",
   "execution_count": null,
   "id": "20c164e0",
   "metadata": {},
   "outputs": [],
   "source": [
    "step_tensor"
   ]
  },
  {
   "cell_type": "code",
   "execution_count": null,
   "id": "33b39dd8",
   "metadata": {},
   "outputs": [],
   "source": [
    "import numpy as np"
   ]
  },
  {
   "cell_type": "code",
   "execution_count": null,
   "id": "68aefcdf",
   "metadata": {},
   "outputs": [],
   "source": [
    "numpy_array = np.array([1.5, 2.5, 3.5])  # Create a NumPy array"
   ]
  },
  {
   "cell_type": "code",
   "execution_count": null,
   "id": "0938ecda",
   "metadata": {},
   "outputs": [],
   "source": [
    "tensor_form_numpy = torch.tensor(numpy_array)  # Convert NumPy array to PyTorch tensor"
   ]
  },
  {
   "cell_type": "code",
   "execution_count": null,
   "id": "64de93fc",
   "metadata": {},
   "outputs": [],
   "source": [
    "tensor_form_numpy"
   ]
  },
  {
   "cell_type": "code",
   "execution_count": null,
   "id": "00de219d",
   "metadata": {},
   "outputs": [],
   "source": [
    "tensor_form_numpy.numpy()  # Convert PyTorch tensor back to NumPy array"
   ]
  },
  {
   "cell_type": "code",
   "execution_count": null,
   "id": "76a02075",
   "metadata": {},
   "outputs": [],
   "source": [
    "float_tensor = torch.tensor([1.0, 2.0, 3.0], dtype=torch.float32)  # Create a float tensor"
   ]
  },
  {
   "cell_type": "code",
   "execution_count": null,
   "id": "4702252f",
   "metadata": {},
   "outputs": [],
   "source": [
    "float_tensor"
   ]
  },
  {
   "cell_type": "code",
   "execution_count": null,
   "id": "4e4614c1",
   "metadata": {},
   "outputs": [],
   "source": [
    "int_tensor = torch.tensor([1, 2, 3], dtype=torch.int32)  # Create an integer tensor"
   ]
  },
  {
   "cell_type": "code",
   "execution_count": null,
   "id": "16d3fae4",
   "metadata": {},
   "outputs": [],
   "source": [
    "int_tensor"
   ]
  },
  {
   "cell_type": "code",
   "execution_count": null,
   "id": "dc4bfbbf",
   "metadata": {},
   "outputs": [],
   "source": [
    "bool_tensor = torch.tensor([1, 0, 1], dtype= torch.bool)  # Create a boolean tensor"
   ]
  },
  {
   "cell_type": "code",
   "execution_count": null,
   "id": "8160d43c",
   "metadata": {},
   "outputs": [],
   "source": [
    "bool_tensor"
   ]
  },
  {
   "cell_type": "code",
   "execution_count": null,
   "id": "db72df27",
   "metadata": {},
   "outputs": [],
   "source": [
    "shape_tensor = torch.tensor([[1, 2], [3, 4], [5, 6]])  # Create a 2D tensor"
   ]
  },
  {
   "cell_type": "code",
   "execution_count": null,
   "id": "a9fa861d",
   "metadata": {},
   "outputs": [],
   "source": [
    "shape_tensor"
   ]
  },
  {
   "cell_type": "code",
   "execution_count": null,
   "id": "0ab26573",
   "metadata": {},
   "outputs": [],
   "source": [
    "shape_tensor.shape # Get the shape of the tensor"
   ]
  },
  {
   "cell_type": "code",
   "execution_count": null,
   "id": "b91920e0",
   "metadata": {},
   "outputs": [],
   "source": [
    "shape_tensor.ndim  # Get the number of dimensions of the tensor"
   ]
  },
  {
   "cell_type": "code",
   "execution_count": null,
   "id": "a611a6bf",
   "metadata": {},
   "outputs": [],
   "source": [
    "base_tensor = torch.ones(2, 3)  # Create a 2D tensor filled with ones"
   ]
  },
  {
   "cell_type": "code",
   "execution_count": null,
   "id": "e8521655",
   "metadata": {},
   "outputs": [],
   "source": [
    "base_tensor"
   ]
  },
  {
   "cell_type": "code",
   "execution_count": null,
   "id": "20eb71ae",
   "metadata": {},
   "outputs": [],
   "source": [
    "zeros_like_tensor = torch.zeros_like(base_tensor)  # Create a tensor of zeros with the same shape as base_tensor"
   ]
  },
  {
   "cell_type": "code",
   "execution_count": null,
   "id": "2bf7f6be",
   "metadata": {},
   "outputs": [],
   "source": [
    "zeros_like_tensor"
   ]
  },
  {
   "cell_type": "code",
   "execution_count": null,
   "id": "b8b98b44",
   "metadata": {},
   "outputs": [],
   "source": [
    "random_like_tensor = torch.rand_like(base_tensor)  # Create a tensor with random values with the same shape as base_tensor"
   ]
  },
  {
   "cell_type": "code",
   "execution_count": null,
   "id": "de4fab57",
   "metadata": {},
   "outputs": [],
   "source": [
    "random_like_tensor"
   ]
  },
  {
   "cell_type": "code",
   "execution_count": null,
   "id": "56ca2464",
   "metadata": {},
   "outputs": [],
   "source": [
    "identity_matrix = torch.eye(4)  # Create a 4x4 identity matrix"
   ]
  },
  {
   "cell_type": "code",
   "execution_count": null,
   "id": "bcba5c8f",
   "metadata": {},
   "outputs": [],
   "source": [
    "identity_matrix"
   ]
  },
  {
   "cell_type": "code",
   "execution_count": null,
   "id": "86a95c21",
   "metadata": {},
   "outputs": [],
   "source": [
    "fill_tensor = torch.full((2, 3), 7)  # Create a tensor filled with a specific value"
   ]
  },
  {
   "cell_type": "code",
   "execution_count": null,
   "id": "c23f9d76",
   "metadata": {},
   "outputs": [],
   "source": [
    "fill_tensor"
   ]
  },
  {
   "cell_type": "code",
   "execution_count": null,
   "id": "4afcc8e8",
   "metadata": {},
   "outputs": [],
   "source": [
    "tensor_a = torch.tensor([1.0, 2.0, 3.0])    # Create a tensor from a list\n",
    "tensor_b = torch.tensor([4.0, 5.0, 6.0])    # Create another tensor from a list"
   ]
  },
  {
   "cell_type": "code",
   "execution_count": null,
   "id": "dcec86c2",
   "metadata": {},
   "outputs": [],
   "source": [
    "sum_tensor = tensor_a + tensor_b  # Element-wise addition of two tensors"
   ]
  },
  {
   "cell_type": "code",
   "execution_count": null,
   "id": "3e1ecf62",
   "metadata": {},
   "outputs": [],
   "source": [
    "tensor_a"
   ]
  },
  {
   "cell_type": "code",
   "execution_count": null,
   "id": "aa57d48e",
   "metadata": {},
   "outputs": [],
   "source": [
    "tensor_b"
   ]
  },
  {
   "cell_type": "code",
   "execution_count": null,
   "id": "6a676bb1",
   "metadata": {},
   "outputs": [],
   "source": [
    "sum_tensor"
   ]
  },
  {
   "cell_type": "code",
   "execution_count": null,
   "id": "92c68e08",
   "metadata": {},
   "outputs": [],
   "source": [
    "diff_tensor = tensor_b - tensor_a  # Element-wise subtraction of two tensors"
   ]
  },
  {
   "cell_type": "code",
   "execution_count": null,
   "id": "6107915d",
   "metadata": {},
   "outputs": [],
   "source": [
    "diff_tensor"
   ]
  },
  {
   "cell_type": "code",
   "execution_count": null,
   "id": "e4c1a085",
   "metadata": {},
   "outputs": [],
   "source": [
    "prod_tensor = tensor_a * tensor_b  # Element-wise multiplication of two tensors"
   ]
  },
  {
   "cell_type": "code",
   "execution_count": null,
   "id": "51491e8b",
   "metadata": {},
   "outputs": [],
   "source": [
    "prod_tensor"
   ]
  },
  {
   "cell_type": "code",
   "execution_count": null,
   "id": "c8890f5b",
   "metadata": {},
   "outputs": [],
   "source": [
    "div_tensor = tensor_b / tensor_a  # Element-wise division of two tensors"
   ]
  },
  {
   "cell_type": "code",
   "execution_count": null,
   "id": "d5b3bffb",
   "metadata": {},
   "outputs": [],
   "source": [
    "div_tensor"
   ]
  },
  {
   "cell_type": "code",
   "execution_count": null,
   "id": "e97c94b6",
   "metadata": {},
   "outputs": [],
   "source": [
    "tensor_a.add_(tensor_b)  # In-place addition of tensor_b to tensor_a"
   ]
  },
  {
   "cell_type": "code",
   "execution_count": null,
   "id": "d970dea0",
   "metadata": {},
   "outputs": [],
   "source": [
    "tensor_a"
   ]
  },
  {
   "cell_type": "code",
   "execution_count": null,
   "id": "356275a2",
   "metadata": {},
   "outputs": [],
   "source": [
    "tensor_a.mul_(tensor_b)  # In-place multiplication of tensor_a by tensor_b"
   ]
  },
  {
   "cell_type": "code",
   "execution_count": null,
   "id": "a8d8ba7b",
   "metadata": {},
   "outputs": [],
   "source": [
    "tensor_a"
   ]
  },
  {
   "cell_type": "code",
   "execution_count": null,
   "id": "4b6d882e",
   "metadata": {},
   "outputs": [],
   "source": [
    "tensor_c = torch.tensor([1.0, 2.0, 3.0])  # Create another tensor from a list"
   ]
  },
  {
   "cell_type": "code",
   "execution_count": null,
   "id": "d561ff31",
   "metadata": {},
   "outputs": [],
   "source": [
    "tensor_c"
   ]
  },
  {
   "cell_type": "code",
   "execution_count": null,
   "id": "b544ed1f",
   "metadata": {},
   "outputs": [],
   "source": [
    "tensor_d = torch.tensor([[1.0], [2.0], [3.0]])  # Create a 2D tensor from a list of lists"
   ]
  },
  {
   "cell_type": "code",
   "execution_count": null,
   "id": "b2b860a7",
   "metadata": {},
   "outputs": [],
   "source": [
    "tensor_d"
   ]
  },
  {
   "cell_type": "code",
   "execution_count": null,
   "id": "4e7eff78",
   "metadata": {},
   "outputs": [],
   "source": [
    "brodcast_result = tensor_c + tensor_d  # Broadcasting addition"
   ]
  },
  {
   "cell_type": "code",
   "execution_count": null,
   "id": "696361cd",
   "metadata": {},
   "outputs": [],
   "source": [
    "brodcast_result"
   ]
  },
  {
   "cell_type": "code",
   "execution_count": null,
   "id": "13a9d064",
   "metadata": {},
   "outputs": [],
   "source": [
    "metrix_a = torch.tensor([[1, 2, 3], [4, 5, 6]])  # Create a 2D tensor (matrix)\n",
    "matrix_b = torch.tensor([[7, 8],[9,10],[11,12]])  # Create another 2D tensor (matrix)"
   ]
  },
  {
   "cell_type": "code",
   "execution_count": null,
   "id": "5c326f58",
   "metadata": {},
   "outputs": [],
   "source": [
    "matmul_results = torch.matmul(metrix_a, matrix_b)  # Matrix multiplication"
   ]
  },
  {
   "cell_type": "code",
   "execution_count": null,
   "id": "1c5fa94d",
   "metadata": {},
   "outputs": [],
   "source": [
    "matmul_results"
   ]
  },
  {
   "cell_type": "code",
   "execution_count": null,
   "id": "a8f71a14",
   "metadata": {},
   "outputs": [],
   "source": [
    "vector_a = torch.tensor([1, 2, 3])  # Create a 1D tensor (vector)\n",
    "vector_b = torch.tensor([4, 5, 6])  # Create another 1D tensor (vector)"
   ]
  },
  {
   "cell_type": "code",
   "execution_count": null,
   "id": "24b71d5f",
   "metadata": {},
   "outputs": [],
   "source": [
    "dot_product = torch.dot(vector_a, vector_b)  # Dot product of two vectors"
   ]
  },
  {
   "cell_type": "code",
   "execution_count": null,
   "id": "7d053fa9",
   "metadata": {},
   "outputs": [],
   "source": [
    "dot_product"
   ]
  },
  {
   "cell_type": "code",
   "execution_count": null,
   "id": "02c77e50",
   "metadata": {},
   "outputs": [],
   "source": [
    "tensor_e = torch.arange(12)  # Create a 1D tensor with values from 0 to 11"
   ]
  },
  {
   "cell_type": "code",
   "execution_count": null,
   "id": "ae0e78e9",
   "metadata": {},
   "outputs": [],
   "source": [
    "tensor_e"
   ]
  },
  {
   "cell_type": "code",
   "execution_count": null,
   "id": "86ba7479",
   "metadata": {},
   "outputs": [],
   "source": [
    "reshaped_tensor = tensor_e.view(3, 4)  # Reshape the tensor to 3 rows and 4 columns"
   ]
  },
  {
   "cell_type": "code",
   "execution_count": null,
   "id": "b6095f9d",
   "metadata": {},
   "outputs": [],
   "source": [
    "reshaped_tensor"
   ]
  },
  {
   "cell_type": "code",
   "execution_count": null,
   "id": "b82d126d",
   "metadata": {},
   "outputs": [],
   "source": [
    "reshaped_tensor.shape  # Get the shape of the reshaped tensor"
   ]
  },
  {
   "cell_type": "code",
   "execution_count": null,
   "id": "85e21130",
   "metadata": {},
   "outputs": [],
   "source": [
    "flattened_tensor = reshaped_tensor.view(-1)  # Flatten the tensor to a 1D tensor"
   ]
  },
  {
   "cell_type": "code",
   "execution_count": null,
   "id": "25f54d66",
   "metadata": {},
   "outputs": [],
   "source": [
    "flattened_tensor"
   ]
  },
  {
   "cell_type": "code",
   "execution_count": null,
   "id": "c623f1b3",
   "metadata": {},
   "outputs": [],
   "source": [
    "tensor_g = torch.tensor([[1, 2], [3, 4]])  # Create a 2D tensor\n",
    "tensor_h = torch.tensor([[5, 6], [7, 8]])  # Create another 2D tensor"
   ]
  },
  {
   "cell_type": "code",
   "execution_count": null,
   "id": "258b3228",
   "metadata": {},
   "outputs": [],
   "source": [
    "tensor_h"
   ]
  },
  {
   "cell_type": "code",
   "execution_count": null,
   "id": "31ca75ac",
   "metadata": {},
   "outputs": [],
   "source": [
    "concat_rows = torch.cat((tensor_g, tensor_h), dim=0)  # Concatenate tensors along rows"
   ]
  },
  {
   "cell_type": "code",
   "execution_count": null,
   "id": "46868d7c",
   "metadata": {},
   "outputs": [],
   "source": [
    "concat_rows"
   ]
  },
  {
   "cell_type": "code",
   "execution_count": null,
   "id": "76e980d3",
   "metadata": {},
   "outputs": [],
   "source": [
    "concat_rows.shape  # Get the shape of the concatenated tensor"
   ]
  },
  {
   "cell_type": "code",
   "execution_count": null,
   "id": "387db2f6",
   "metadata": {},
   "outputs": [],
   "source": [
    "concat_cols = torch.cat((tensor_g, tensor_h), dim=1)  # Concatenate tensors along columns"
   ]
  },
  {
   "cell_type": "code",
   "execution_count": null,
   "id": "83eca87a",
   "metadata": {},
   "outputs": [],
   "source": [
    "concat_cols"
   ]
  },
  {
   "cell_type": "code",
   "execution_count": null,
   "id": "a2108006",
   "metadata": {},
   "outputs": [],
   "source": [
    "concat_cols.shape  # Get the shape of the concatenated tensor along columns"
   ]
  },
  {
   "cell_type": "markdown",
   "id": "5c4165f8",
   "metadata": {},
   "source": [
    "# Kernel Reset"
   ]
  },
  {
   "cell_type": "code",
   "execution_count": 1,
   "id": "0f30d9c2",
   "metadata": {},
   "outputs": [],
   "source": [
    "import torch"
   ]
  },
  {
   "cell_type": "code",
   "execution_count": 3,
   "id": "c66d454d",
   "metadata": {},
   "outputs": [],
   "source": [
    "tensor_a = torch.tensor([[1, 2, 3], [4, 5, 6], [7, 8, 9]]) # Create a 2D tensor"
   ]
  },
  {
   "cell_type": "code",
   "execution_count": 4,
   "id": "2e0d8d2f",
   "metadata": {},
   "outputs": [
    {
     "data": {
      "text/plain": [
       "tensor([[1, 2, 3],\n",
       "        [4, 5, 6],\n",
       "        [7, 8, 9]])"
      ]
     },
     "execution_count": 4,
     "metadata": {},
     "output_type": "execute_result"
    }
   ],
   "source": [
    "tensor_a"
   ]
  },
  {
   "cell_type": "code",
   "execution_count": 5,
   "id": "3b646aa6",
   "metadata": {},
   "outputs": [],
   "source": [
    "element = tensor_a[1, 2]  # Access the element at row 1, column 2"
   ]
  },
  {
   "cell_type": "code",
   "execution_count": 6,
   "id": "f5260d9e",
   "metadata": {},
   "outputs": [
    {
     "data": {
      "text/plain": [
       "tensor(6)"
      ]
     },
     "execution_count": 6,
     "metadata": {},
     "output_type": "execute_result"
    }
   ],
   "source": [
    "element"
   ]
  },
  {
   "cell_type": "code",
   "execution_count": 7,
   "id": "9b418beb",
   "metadata": {},
   "outputs": [],
   "source": [
    "tensor_a[2,1] = 99  # Modify the element at row 2, column 1"
   ]
  },
  {
   "cell_type": "code",
   "execution_count": 8,
   "id": "ed3ba169",
   "metadata": {},
   "outputs": [
    {
     "data": {
      "text/plain": [
       "tensor([[ 1,  2,  3],\n",
       "        [ 4,  5,  6],\n",
       "        [ 7, 99,  9]])"
      ]
     },
     "execution_count": 8,
     "metadata": {},
     "output_type": "execute_result"
    }
   ],
   "source": [
    "tensor_a"
   ]
  },
  {
   "cell_type": "code",
   "execution_count": 10,
   "id": "92b31def",
   "metadata": {},
   "outputs": [],
   "source": [
    "sub_tentor = tensor_a[:2, :2]  # Slice the tensor to get a sub-tensor"
   ]
  },
  {
   "cell_type": "code",
   "execution_count": 11,
   "id": "178a5d19",
   "metadata": {},
   "outputs": [
    {
     "data": {
      "text/plain": [
       "tensor([[1, 2],\n",
       "        [4, 5]])"
      ]
     },
     "execution_count": 11,
     "metadata": {},
     "output_type": "execute_result"
    }
   ],
   "source": [
    "sub_tentor"
   ]
  },
  {
   "cell_type": "code",
   "execution_count": 12,
   "id": "4580edd2",
   "metadata": {},
   "outputs": [],
   "source": [
    "secound_row = tensor_a[1, :]  # Access the second row of the tensor"
   ]
  },
  {
   "cell_type": "code",
   "execution_count": 13,
   "id": "1c359674",
   "metadata": {},
   "outputs": [
    {
     "data": {
      "text/plain": [
       "tensor([4, 5, 6])"
      ]
     },
     "execution_count": 13,
     "metadata": {},
     "output_type": "execute_result"
    }
   ],
   "source": [
    "secound_row"
   ]
  },
  {
   "cell_type": "code",
   "execution_count": 14,
   "id": "5da22243",
   "metadata": {},
   "outputs": [],
   "source": [
    "third_column = tensor_a[:, 2]  # Access the third column of the tensor"
   ]
  },
  {
   "cell_type": "code",
   "execution_count": 15,
   "id": "380f0b87",
   "metadata": {},
   "outputs": [
    {
     "data": {
      "text/plain": [
       "tensor([3, 6, 9])"
      ]
     },
     "execution_count": 15,
     "metadata": {},
     "output_type": "execute_result"
    }
   ],
   "source": [
    "third_column"
   ]
  },
  {
   "cell_type": "code",
   "execution_count": 17,
   "id": "6991f852",
   "metadata": {},
   "outputs": [
    {
     "data": {
      "text/plain": [
       "tensor([[ 1,  2,  3],\n",
       "        [ 4,  5,  6],\n",
       "        [ 7, 99,  9]])"
      ]
     },
     "execution_count": 17,
     "metadata": {},
     "output_type": "execute_result"
    }
   ],
   "source": [
    "tensor_a"
   ]
  },
  {
   "cell_type": "code",
   "execution_count": 16,
   "id": "3e03c3a5",
   "metadata": {},
   "outputs": [],
   "source": [
    "step_rows = tensor_a[::2, :]  # Access every second row of the tensor"
   ]
  },
  {
   "cell_type": "code",
   "execution_count": 18,
   "id": "5f69d1bd",
   "metadata": {},
   "outputs": [
    {
     "data": {
      "text/plain": [
       "tensor([[ 1,  2,  3],\n",
       "        [ 7, 99,  9]])"
      ]
     },
     "execution_count": 18,
     "metadata": {},
     "output_type": "execute_result"
    }
   ],
   "source": [
    "step_rows"
   ]
  },
  {
   "cell_type": "code",
   "execution_count": 19,
   "id": "fef548bc",
   "metadata": {},
   "outputs": [],
   "source": [
    "step_cols = tensor_a[:, ::2]  # Access every second column of the tensor"
   ]
  },
  {
   "cell_type": "code",
   "execution_count": 20,
   "id": "9b7e0ac0",
   "metadata": {},
   "outputs": [
    {
     "data": {
      "text/plain": [
       "tensor([[1, 3],\n",
       "        [4, 6],\n",
       "        [7, 9]])"
      ]
     },
     "execution_count": 20,
     "metadata": {},
     "output_type": "execute_result"
    }
   ],
   "source": [
    "step_cols"
   ]
  },
  {
   "cell_type": "code",
   "execution_count": 21,
   "id": "8bd09c85",
   "metadata": {},
   "outputs": [],
   "source": [
    "mask = tensor_a > 5  # Create a boolean mask for elements greater than 5"
   ]
  },
  {
   "cell_type": "code",
   "execution_count": 24,
   "id": "d65a4e5f",
   "metadata": {},
   "outputs": [
    {
     "data": {
      "text/plain": [
       "tensor([[False, False, False],\n",
       "        [False, False,  True],\n",
       "        [ True,  True,  True]])"
      ]
     },
     "execution_count": 24,
     "metadata": {},
     "output_type": "execute_result"
    }
   ],
   "source": [
    "mask"
   ]
  },
  {
   "cell_type": "code",
   "execution_count": 25,
   "id": "29cd1170",
   "metadata": {},
   "outputs": [],
   "source": [
    "mask_tensor = tensor_a[mask]  # Apply the mask to get elements greater than 5"
   ]
  },
  {
   "cell_type": "code",
   "execution_count": 26,
   "id": "e95cb3d4",
   "metadata": {},
   "outputs": [
    {
     "data": {
      "text/plain": [
       "tensor([ 6,  7, 99,  9])"
      ]
     },
     "execution_count": 26,
     "metadata": {},
     "output_type": "execute_result"
    }
   ],
   "source": [
    "mask_tensor"
   ]
  },
  {
   "cell_type": "code",
   "execution_count": 27,
   "id": "15c517e8",
   "metadata": {},
   "outputs": [
    {
     "data": {
      "text/plain": [
       "tensor([[ 1,  2,  3],\n",
       "        [ 4,  5,  6],\n",
       "        [ 7, 99,  9]])"
      ]
     },
     "execution_count": 27,
     "metadata": {},
     "output_type": "execute_result"
    }
   ],
   "source": [
    "tensor_a"
   ]
  },
  {
   "cell_type": "code",
   "execution_count": 28,
   "id": "cf87288a",
   "metadata": {},
   "outputs": [],
   "source": [
    "tensor_a[tensor_a > 5] = 0  # Set elements greater than 5 to 0"
   ]
  },
  {
   "cell_type": "code",
   "execution_count": 29,
   "id": "65708e34",
   "metadata": {},
   "outputs": [
    {
     "data": {
      "text/plain": [
       "tensor([[1, 2, 3],\n",
       "        [4, 5, 0],\n",
       "        [0, 0, 0]])"
      ]
     },
     "execution_count": 29,
     "metadata": {},
     "output_type": "execute_result"
    }
   ],
   "source": [
    "tensor_a"
   ]
  },
  {
   "cell_type": "code",
   "execution_count": 30,
   "id": "5e0eb37d",
   "metadata": {},
   "outputs": [],
   "source": [
    "tensor_b = torch.tensor([10,20,30,40,50])"
   ]
  },
  {
   "cell_type": "code",
   "execution_count": 35,
   "id": "cb4b4c1d",
   "metadata": {},
   "outputs": [
    {
     "data": {
      "text/plain": [
       "tensor([10, 20, 30, 40, 50])"
      ]
     },
     "execution_count": 35,
     "metadata": {},
     "output_type": "execute_result"
    }
   ],
   "source": [
    "tensor_b"
   ]
  },
  {
   "cell_type": "code",
   "execution_count": 31,
   "id": "8e281e65",
   "metadata": {},
   "outputs": [],
   "source": [
    "indices = torch.tensor([0, 2, 4])  # Indices of elements to select"
   ]
  },
  {
   "cell_type": "code",
   "execution_count": 32,
   "id": "2be3c4ef",
   "metadata": {},
   "outputs": [
    {
     "data": {
      "text/plain": [
       "tensor([0, 2, 4])"
      ]
     },
     "execution_count": 32,
     "metadata": {},
     "output_type": "execute_result"
    }
   ],
   "source": [
    "indices"
   ]
  },
  {
   "cell_type": "code",
   "execution_count": 33,
   "id": "ac9532af",
   "metadata": {},
   "outputs": [],
   "source": [
    "selected_elements = tensor_b[indices]  # Select elements at specified indices"
   ]
  },
  {
   "cell_type": "code",
   "execution_count": 34,
   "id": "bbca291e",
   "metadata": {},
   "outputs": [
    {
     "data": {
      "text/plain": [
       "tensor([10, 30, 50])"
      ]
     },
     "execution_count": 34,
     "metadata": {},
     "output_type": "execute_result"
    }
   ],
   "source": [
    "selected_elements"
   ]
  },
  {
   "cell_type": "code",
   "execution_count": 36,
   "id": "3fb08949",
   "metadata": {},
   "outputs": [],
   "source": [
    "tensor_c = torch.tensor([[10,20,30],[40,50,60],[70,80,90]])  # Create a 2D tensor"
   ]
  },
  {
   "cell_type": "code",
   "execution_count": 38,
   "id": "9dd4de07",
   "metadata": {},
   "outputs": [
    {
     "data": {
      "text/plain": [
       "2"
      ]
     },
     "execution_count": 38,
     "metadata": {},
     "output_type": "execute_result"
    }
   ],
   "source": [
    "tensor_c.ndim  # Get the number of dimensions of the tensor"
   ]
  },
  {
   "cell_type": "code",
   "execution_count": 39,
   "id": "fb219cbf",
   "metadata": {},
   "outputs": [
    {
     "data": {
      "text/plain": [
       "tensor([[10, 20, 30],\n",
       "        [40, 50, 60],\n",
       "        [70, 80, 90]])"
      ]
     },
     "execution_count": 39,
     "metadata": {},
     "output_type": "execute_result"
    }
   ],
   "source": [
    "tensor_c"
   ]
  },
  {
   "cell_type": "code",
   "execution_count": 40,
   "id": "c77e0c4a",
   "metadata": {},
   "outputs": [],
   "source": [
    "row_indices = torch.tensor([0, 1, 2])  # Indices of elements to select\n",
    "col_indices = torch.tensor([2, 1, 0])  # Indices of elements to select"
   ]
  },
  {
   "cell_type": "code",
   "execution_count": 43,
   "id": "046c8d57",
   "metadata": {},
   "outputs": [],
   "source": [
    "selected_elements_2d = tensor_c[row_indices, col_indices]  # Select elements at specified row and column indices"
   ]
  },
  {
   "cell_type": "code",
   "execution_count": 44,
   "id": "808a62ab",
   "metadata": {},
   "outputs": [
    {
     "data": {
      "text/plain": [
       "tensor([30, 50, 70])"
      ]
     },
     "execution_count": 44,
     "metadata": {},
     "output_type": "execute_result"
    }
   ],
   "source": [
    "selected_elements_2d"
   ]
  },
  {
   "cell_type": "markdown",
   "id": "2b66aa9b",
   "metadata": {},
   "source": [
    "# Automatic Differentiation"
   ]
  },
  {
   "cell_type": "code",
   "execution_count": 45,
   "id": "178c5762",
   "metadata": {},
   "outputs": [],
   "source": [
    "x = torch.tensor([2.0,3.0], requires_grad=True)  # Create a tensor with requires_grad=True"
   ]
  },
  {
   "cell_type": "code",
   "execution_count": 46,
   "id": "a83d68bd",
   "metadata": {},
   "outputs": [
    {
     "data": {
      "text/plain": [
       "tensor([2., 3.], requires_grad=True)"
      ]
     },
     "execution_count": 46,
     "metadata": {},
     "output_type": "execute_result"
    }
   ],
   "source": [
    "x"
   ]
  },
  {
   "cell_type": "code",
   "execution_count": 50,
   "id": "327145ca",
   "metadata": {},
   "outputs": [],
   "source": [
    "y = x *3"
   ]
  },
  {
   "cell_type": "code",
   "execution_count": 53,
   "id": "b23dd990",
   "metadata": {},
   "outputs": [],
   "source": [
    "z = y.sum()  # Sum the elements of y to create a scalar"
   ]
  },
  {
   "cell_type": "code",
   "execution_count": 54,
   "id": "fa314133",
   "metadata": {},
   "outputs": [
    {
     "data": {
      "text/plain": [
       "tensor([6., 9.], grad_fn=<MulBackward0>)"
      ]
     },
     "execution_count": 54,
     "metadata": {},
     "output_type": "execute_result"
    }
   ],
   "source": [
    "y"
   ]
  },
  {
   "cell_type": "code",
   "execution_count": 55,
   "id": "1de7f7f6",
   "metadata": {},
   "outputs": [
    {
     "data": {
      "text/plain": [
       "tensor(15., grad_fn=<SumBackward0>)"
      ]
     },
     "execution_count": 55,
     "metadata": {},
     "output_type": "execute_result"
    }
   ],
   "source": [
    "z"
   ]
  },
  {
   "cell_type": "code",
   "execution_count": 56,
   "id": "36ee4662",
   "metadata": {},
   "outputs": [],
   "source": [
    "z.backward()  # Compute the gradients"
   ]
  },
  {
   "cell_type": "code",
   "execution_count": 57,
   "id": "473ca388",
   "metadata": {},
   "outputs": [
    {
     "data": {
      "text/plain": [
       "tensor([3., 3.])"
      ]
     },
     "execution_count": 57,
     "metadata": {},
     "output_type": "execute_result"
    }
   ],
   "source": [
    "x.grad  # Access the gradients of x"
   ]
  },
  {
   "cell_type": "code",
   "execution_count": 58,
   "id": "9ad96bef",
   "metadata": {},
   "outputs": [],
   "source": [
    "z = (x[0] + x[1] * 3)  # Create a new scalar z from x"
   ]
  },
  {
   "cell_type": "code",
   "execution_count": 63,
   "id": "19c4b795",
   "metadata": {},
   "outputs": [],
   "source": [
    "a = torch.tensor([[2.0, 3.0],[4.0, 5.0]], requires_grad=True)  # Create a tensor with requires_grad=True([])"
   ]
  },
  {
   "cell_type": "code",
   "execution_count": 64,
   "id": "f258ad01",
   "metadata": {},
   "outputs": [
    {
     "data": {
      "text/plain": [
       "tensor([[2., 3.],\n",
       "        [4., 5.]], requires_grad=True)"
      ]
     },
     "execution_count": 64,
     "metadata": {},
     "output_type": "execute_result"
    }
   ],
   "source": [
    "a"
   ]
  },
  {
   "cell_type": "code",
   "execution_count": 65,
   "id": "8caaa5ed",
   "metadata": {},
   "outputs": [],
   "source": [
    "b = a ** 2  # Square the elements of a"
   ]
  },
  {
   "cell_type": "code",
   "execution_count": 66,
   "id": "e5cb7297",
   "metadata": {},
   "outputs": [
    {
     "data": {
      "text/plain": [
       "tensor([[ 4.,  9.],\n",
       "        [16., 25.]], grad_fn=<PowBackward0>)"
      ]
     },
     "execution_count": 66,
     "metadata": {},
     "output_type": "execute_result"
    }
   ],
   "source": [
    "b"
   ]
  },
  {
   "cell_type": "code",
   "execution_count": 67,
   "id": "cbbeff00",
   "metadata": {},
   "outputs": [],
   "source": [
    "c = b.mean()  # Compute the mean of b"
   ]
  },
  {
   "cell_type": "code",
   "execution_count": 68,
   "id": "e1c6d237",
   "metadata": {},
   "outputs": [
    {
     "data": {
      "text/plain": [
       "tensor(13.5000, grad_fn=<MeanBackward0>)"
      ]
     },
     "execution_count": 68,
     "metadata": {},
     "output_type": "execute_result"
    }
   ],
   "source": [
    "c"
   ]
  },
  {
   "cell_type": "code",
   "execution_count": 69,
   "id": "964bc06b",
   "metadata": {},
   "outputs": [],
   "source": [
    "c.backward()  # Compute the gradients"
   ]
  },
  {
   "cell_type": "code",
   "execution_count": 70,
   "id": "40bb1495",
   "metadata": {},
   "outputs": [
    {
     "data": {
      "text/plain": [
       "tensor([[1.0000, 1.5000],\n",
       "        [2.0000, 2.5000]])"
      ]
     },
     "execution_count": 70,
     "metadata": {},
     "output_type": "execute_result"
    }
   ],
   "source": [
    "a.grad  # Access the gradients of a "
   ]
  },
  {
   "cell_type": "code",
   "execution_count": 71,
   "id": "6d1014ad",
   "metadata": {},
   "outputs": [
    {
     "name": "stdout",
     "output_type": "stream",
     "text": [
      "y without gradient tracking tensor([4., 6.])\n"
     ]
    }
   ],
   "source": [
    "with torch.no_grad():  # Disable gradient tracking\n",
    "    y = x * 2  # Perform operations without tracking gradients\n",
    "    print(\"y without gradient tracking\", y)  # Print the result of the operation"
   ]
  },
  {
   "cell_type": "code",
   "execution_count": 72,
   "id": "e5258b7a",
   "metadata": {},
   "outputs": [
    {
     "data": {
      "text/plain": [
       "tensor([2., 3.], requires_grad=True)"
      ]
     },
     "execution_count": 72,
     "metadata": {},
     "output_type": "execute_result"
    }
   ],
   "source": [
    "x"
   ]
  },
  {
   "cell_type": "code",
   "execution_count": 73,
   "id": "0b4624a6",
   "metadata": {},
   "outputs": [],
   "source": [
    "x_detached = x.detach()  # Detach x from the computation graph"
   ]
  },
  {
   "cell_type": "code",
   "execution_count": 74,
   "id": "0a8b6c9c",
   "metadata": {},
   "outputs": [
    {
     "data": {
      "text/plain": [
       "tensor([2., 3.])"
      ]
     },
     "execution_count": 74,
     "metadata": {},
     "output_type": "execute_result"
    }
   ],
   "source": [
    "x_detached"
   ]
  },
  {
   "cell_type": "code",
   "execution_count": 75,
   "id": "5e15c5d5",
   "metadata": {},
   "outputs": [],
   "source": [
    "y_detached = x_detached *2  # Detach y from the computation graph"
   ]
  },
  {
   "cell_type": "code",
   "execution_count": 76,
   "id": "cba9d056",
   "metadata": {},
   "outputs": [
    {
     "data": {
      "text/plain": [
       "tensor([4., 6.])"
      ]
     },
     "execution_count": 76,
     "metadata": {},
     "output_type": "execute_result"
    }
   ],
   "source": [
    "y_detached"
   ]
  },
  {
   "cell_type": "code",
   "execution_count": 77,
   "id": "fa2930b8",
   "metadata": {},
   "outputs": [
    {
     "data": {
      "text/plain": [
       "tensor([0., 0.])"
      ]
     },
     "execution_count": 77,
     "metadata": {},
     "output_type": "execute_result"
    }
   ],
   "source": [
    "x.grad.zero_()  # Zero out the gradients of x"
   ]
  },
  {
   "cell_type": "code",
   "execution_count": 78,
   "id": "45f580bd",
   "metadata": {},
   "outputs": [
    {
     "data": {
      "text/plain": [
       "tensor([2., 3.], requires_grad=True)"
      ]
     },
     "execution_count": 78,
     "metadata": {},
     "output_type": "execute_result"
    }
   ],
   "source": [
    "x"
   ]
  },
  {
   "cell_type": "code",
   "execution_count": 79,
   "id": "24f1fd72",
   "metadata": {},
   "outputs": [],
   "source": [
    "z = (x ** 2).sum()  # Create a new scalar z from x"
   ]
  },
  {
   "cell_type": "code",
   "execution_count": 80,
   "id": "9fb0cd4c",
   "metadata": {},
   "outputs": [
    {
     "data": {
      "text/plain": [
       "tensor(13., grad_fn=<SumBackward0>)"
      ]
     },
     "execution_count": 80,
     "metadata": {},
     "output_type": "execute_result"
    }
   ],
   "source": [
    "z"
   ]
  },
  {
   "cell_type": "code",
   "execution_count": 81,
   "id": "24e3fa71",
   "metadata": {},
   "outputs": [],
   "source": [
    "z.backward()  # Compute the gradients"
   ]
  },
  {
   "cell_type": "code",
   "execution_count": 82,
   "id": "d1e4e186",
   "metadata": {},
   "outputs": [
    {
     "data": {
      "text/plain": [
       "tensor([4., 6.])"
      ]
     },
     "execution_count": 82,
     "metadata": {},
     "output_type": "execute_result"
    }
   ],
   "source": [
    "x.grad  # Access the gradients of x"
   ]
  },
  {
   "cell_type": "code",
   "execution_count": 84,
   "id": "59877159",
   "metadata": {},
   "outputs": [],
   "source": [
    "x = torch.tensor(2.0, requires_grad=True)  # Create a tensor with requires_grad=True"
   ]
  },
  {
   "cell_type": "code",
   "execution_count": 85,
   "id": "b4baae5f",
   "metadata": {},
   "outputs": [
    {
     "data": {
      "text/plain": [
       "tensor(2., requires_grad=True)"
      ]
     },
     "execution_count": 85,
     "metadata": {},
     "output_type": "execute_result"
    }
   ],
   "source": [
    "x"
   ]
  },
  {
   "cell_type": "code",
   "execution_count": 86,
   "id": "cae44209",
   "metadata": {},
   "outputs": [],
   "source": [
    "y = x ** 3"
   ]
  },
  {
   "cell_type": "code",
   "execution_count": 87,
   "id": "faf06bec",
   "metadata": {},
   "outputs": [
    {
     "data": {
      "text/plain": [
       "tensor(8., grad_fn=<PowBackward0>)"
      ]
     },
     "execution_count": 87,
     "metadata": {},
     "output_type": "execute_result"
    }
   ],
   "source": [
    "y"
   ]
  },
  {
   "cell_type": "code",
   "execution_count": 88,
   "id": "51152d93",
   "metadata": {},
   "outputs": [
    {
     "name": "stderr",
     "output_type": "stream",
     "text": [
      "/mnt/d/Dysk/REPO/fine_tune_llm/.venv/lib/python3.12/site-packages/torch/autograd/graph.py:829: UserWarning: Using backward() with create_graph=True will create a reference cycle between the parameter and its gradient which can cause a memory leak. We recommend using autograd.grad when creating the graph to avoid this. If you have to use this function, make sure to reset the .grad fields of your parameters to None after use to break the cycle and avoid the leak. (Triggered internally at /pytorch/torch/csrc/autograd/engine.cpp:1291.)\n",
      "  return Variable._execution_engine.run_backward(  # Calls into the C++ engine to run the backward pass\n"
     ]
    }
   ],
   "source": [
    "y.backward(create_graph=True)  # Compute the gradients with create_graph=True"
   ]
  },
  {
   "cell_type": "code",
   "execution_count": 89,
   "id": "d6643ddc",
   "metadata": {},
   "outputs": [
    {
     "data": {
      "text/plain": [
       "tensor(12., grad_fn=<CopyBackwards>)"
      ]
     },
     "execution_count": 89,
     "metadata": {},
     "output_type": "execute_result"
    }
   ],
   "source": [
    "x.grad  # Access the gradients of x"
   ]
  },
  {
   "cell_type": "markdown",
   "id": "1ea15da5",
   "metadata": {},
   "source": [
    "# Liniar Regression Model from Scratch"
   ]
  },
  {
   "cell_type": "markdown",
   "id": "ef2938e2",
   "metadata": {},
   "source": [
    "ypred = w.x +b"
   ]
  },
  {
   "cell_type": "code",
   "execution_count": 90,
   "id": "07cc5f07",
   "metadata": {},
   "outputs": [],
   "source": [
    "n_samples = 100  # Number of samples"
   ]
  },
  {
   "cell_type": "code",
   "execution_count": 91,
   "id": "fec41823",
   "metadata": {},
   "outputs": [],
   "source": [
    "x = torch.randn(n_samples, 1)  # Generate random input data"
   ]
  },
  {
   "cell_type": "code",
   "execution_count": 93,
   "id": "2de025c6",
   "metadata": {},
   "outputs": [],
   "source": [
    "true_w = 2.0 # True parameters for the linear model\n",
    "true_b = 5.0 # True parameters for the linear model"
   ]
  },
  {
   "cell_type": "code",
   "execution_count": 94,
   "id": "c5335b06",
   "metadata": {},
   "outputs": [],
   "source": [
    "y = true_w * x + true_b + torch.randn(n_samples, 1) * 0.5  # Generate target values with some noise"
   ]
  },
  {
   "cell_type": "code",
   "execution_count": 96,
   "id": "019d1fcc",
   "metadata": {},
   "outputs": [],
   "source": [
    "w = torch.randn(1, requires_grad=True)  # Initialize weight with requires_grad=True\n",
    "b = torch.randn(1, requires_grad=True)  # Initialize bias with requires_grad=True"
   ]
  },
  {
   "cell_type": "code",
   "execution_count": 97,
   "id": "c2f2aa90",
   "metadata": {},
   "outputs": [
    {
     "data": {
      "text/plain": [
       "tensor([-0.2875], requires_grad=True)"
      ]
     },
     "execution_count": 97,
     "metadata": {},
     "output_type": "execute_result"
    }
   ],
   "source": [
    "w"
   ]
  },
  {
   "cell_type": "code",
   "execution_count": 98,
   "id": "79a871f2",
   "metadata": {},
   "outputs": [
    {
     "data": {
      "text/plain": [
       "tensor([-0.5490], requires_grad=True)"
      ]
     },
     "execution_count": 98,
     "metadata": {},
     "output_type": "execute_result"
    }
   ],
   "source": [
    "b"
   ]
  },
  {
   "cell_type": "code",
   "execution_count": 99,
   "id": "bfb82ec0",
   "metadata": {},
   "outputs": [],
   "source": [
    "def linear_model(x):\n",
    "    return w * x + b  # Define the linear model"
   ]
  },
  {
   "cell_type": "code",
   "execution_count": 100,
   "id": "a221208b",
   "metadata": {},
   "outputs": [],
   "source": [
    "y_pred = linear_model(x[:5])  # Predict the first 5 samples"
   ]
  },
  {
   "cell_type": "code",
   "execution_count": 101,
   "id": "93871d17",
   "metadata": {},
   "outputs": [
    {
     "data": {
      "text/plain": [
       "tensor([[-0.8195],\n",
       "        [-0.2317],\n",
       "        [-0.8740],\n",
       "        [-0.5395],\n",
       "        [-0.2783]], grad_fn=<AddBackward0>)"
      ]
     },
     "execution_count": 101,
     "metadata": {},
     "output_type": "execute_result"
    }
   ],
   "source": [
    "y_pred"
   ]
  },
  {
   "cell_type": "code",
   "execution_count": 102,
   "id": "8d112097",
   "metadata": {},
   "outputs": [],
   "source": [
    "def mse_loss(y_pred, y_true):\n",
    "    return ((y_pred - y_true) ** 2).mean()  # Mean Squared Error loss function"
   ]
  },
  {
   "cell_type": "code",
   "execution_count": 103,
   "id": "f3129540",
   "metadata": {},
   "outputs": [],
   "source": [
    "initial_loss = mse_loss(y_pred, y[:5])  # Compute the initial loss for the first 5 samples"
   ]
  },
  {
   "cell_type": "code",
   "execution_count": 105,
   "id": "41374ebe",
   "metadata": {},
   "outputs": [
    {
     "data": {
      "text/plain": [
       "31.249624252319336"
      ]
     },
     "execution_count": 105,
     "metadata": {},
     "output_type": "execute_result"
    }
   ],
   "source": [
    "initial_loss.item() # Get the initial loss as a Python number"
   ]
  },
  {
   "cell_type": "code",
   "execution_count": 106,
   "id": "67876903",
   "metadata": {},
   "outputs": [],
   "source": [
    "learning_rate = 0.01  # Set the learning rate"
   ]
  },
  {
   "cell_type": "code",
   "execution_count": 110,
   "id": "fab5aa98",
   "metadata": {},
   "outputs": [],
   "source": [
    "def gradient_descent():\n",
    "    global w, b # Use the global variables w and b\n",
    "    \n",
    "    y_pred = linear_model(x)  # Predict all samples\n",
    "    loss = mse_loss(y_pred, y)  # Compute the loss\n",
    "\n",
    "    loss.backward()  # Compute the gradients\n",
    "\n",
    "    with torch.no_grad():  # Disable gradient tracking\n",
    "        w -= learning_rate * w.grad  # Update weight\n",
    "        b -= learning_rate * b.grad  # Update bias\n",
    "\n",
    "        w.grad.zero_()  # Zero out the gradients of weight\n",
    "        b.grad.zero_()  # Zero out the gradients of bias\n",
    "\n",
    "    return loss.item()  # Return the loss as a Python number"
   ]
  },
  {
   "cell_type": "code",
   "execution_count": 111,
   "id": "7785fb12",
   "metadata": {},
   "outputs": [],
   "source": [
    "loss_values = gradient_descent()  # Perform one step of gradient descent"
   ]
  },
  {
   "cell_type": "code",
   "execution_count": 112,
   "id": "6c5eb9b9",
   "metadata": {},
   "outputs": [
    {
     "data": {
      "text/plain": [
       "30.349660873413086"
      ]
     },
     "execution_count": 112,
     "metadata": {},
     "output_type": "execute_result"
    }
   ],
   "source": [
    "loss_values"
   ]
  },
  {
   "cell_type": "code",
   "execution_count": 113,
   "id": "440c6158",
   "metadata": {},
   "outputs": [],
   "source": [
    "n_epochs = 1000  # Number of epochs for training"
   ]
  },
  {
   "cell_type": "code",
   "execution_count": 114,
   "id": "363d2739",
   "metadata": {},
   "outputs": [
    {
     "name": "stdout",
     "output_type": "stream",
     "text": [
      "Epoch 100, Loss: 1.3601\n",
      "Epoch 200, Loss: 0.3025\n",
      "Epoch 300, Loss: 0.2486\n",
      "Epoch 400, Loss: 0.2456\n",
      "Epoch 500, Loss: 0.2455\n",
      "Epoch 600, Loss: 0.2454\n",
      "Epoch 700, Loss: 0.2454\n",
      "Epoch 800, Loss: 0.2454\n",
      "Epoch 900, Loss: 0.2454\n",
      "Epoch 1000, Loss: 0.2454\n"
     ]
    }
   ],
   "source": [
    "for epoch in range(n_epochs):\n",
    "    loss_value = gradient_descent()  # Perform one step of gradient descent\n",
    "    \n",
    "    if (epoch+1) % 100 == 0:  # Print loss every 100 epochs\n",
    "        print(f'Epoch {epoch+1}, Loss: {loss_value:.4f}')"
   ]
  },
  {
   "cell_type": "code",
   "execution_count": 115,
   "id": "88b03db1",
   "metadata": {},
   "outputs": [
    {
     "data": {
      "text/plain": [
       "2.0232512950897217"
      ]
     },
     "execution_count": 115,
     "metadata": {},
     "output_type": "execute_result"
    }
   ],
   "source": [
    "w.item()     # Get the final values of weight and bias as Python numbers"
   ]
  },
  {
   "cell_type": "code",
   "execution_count": 116,
   "id": "60a24907",
   "metadata": {},
   "outputs": [
    {
     "data": {
      "text/plain": [
       "4.990631103515625"
      ]
     },
     "execution_count": 116,
     "metadata": {},
     "output_type": "execute_result"
    }
   ],
   "source": [
    "b.item() # Get the final values of weight and bias as Python numbers"
   ]
  },
  {
   "cell_type": "code",
   "execution_count": 118,
   "id": "7c21b33a",
   "metadata": {},
   "outputs": [
    {
     "data": {
      "image/png": "[encoded data removed]",
      "text/plain": [
       "<Figure size 640x480 with 1 Axes>"
      ]
     },
     "metadata": {},
     "output_type": "display_data"
    }
   ],
   "source": [
    "import matplotlib.pyplot as plt\n",
    "\n",
    "plt.scatter(x.numpy(), y.numpy(), label='Data Points', color=\"blue\", alpha=0.5)  # Plot the data points\n",
    "plt.plot(x.numpy(), linear_model(x).detach().numpy(), color='red', label='Fitted Line')  # Plot the linear model\n",
    "plt.xlabel('x')\n",
    "plt.ylabel('y')\n",
    "plt.title('Linear Regression with PyTorch')\n",
    "plt.legend()\n",
    "plt.show()  # Show the plot"
   ]
  },
  {
   "cell_type": "markdown",
   "id": "7935c062",
   "metadata": {},
   "source": [
    "# Modules and Layers"
   ]
  },
  {
   "cell_type": "markdown",
   "id": "b94dbb0b",
   "metadata": {},
   "source": [
    "Module\n",
    "Layer"
   ]
  },
  {
   "cell_type": "code",
   "execution_count": 119,
   "id": "5e7edfa2",
   "metadata": {},
   "outputs": [],
   "source": [
    "import torch\n",
    "import torch.nn as nn"
   ]
  },
  {
   "cell_type": "code",
   "execution_count": 120,
   "id": "04680f1c",
   "metadata": {},
   "outputs": [],
   "source": [
    "class SimpleFeedForward(nn.Module):\n",
    "    def __init__(self, input_size, hidden_size, output_size):\n",
    "        super(SimpleFeedForward, self).__init__()\n",
    "\n",
    "        self.fc1 = nn.Linear(input_size, hidden_size) # First layer with input_size inputs and hidden_size outputs\n",
    "        self.relu = nn.ReLU()  # ReLU activation function\n",
    "        self.fc2 = nn.Linear(hidden_size, output_size)  # Second layer with hidden_size inputs and output_size outputs\n",
    "\n",
    "    def forward(self, x):\n",
    "        \n",
    "        out = self.fc(x)\n",
    "        out = self.relu(out)\n",
    "        out = self.fc2(out)  # Forward pass through the second layer\n",
    "        \n",
    "        return out  # Return the output of the model"
   ]
  },
  {
   "cell_type": "markdown",
   "id": "3570c834",
   "metadata": {},
   "source": [
    "# Neural Network Fundaments"
   ]
  },
  {
   "cell_type": "markdown",
   "id": "12e26162",
   "metadata": {},
   "source": [
    "Imput Layer                                  Hidden Layers                                      Output Layer\n",
    "\n",
    "x1                                                  h1                                              y1\n",
    "x2                -> (w1, b1)                       h2                  -> (w2, b2)                 y2\n",
    "x3                                                  h3                                              y3\n",
    "...\n",
    "nx                                                  hn                                              yn"
   ]
  },
  {
   "cell_type": "markdown",
   "id": "7af2aef0",
   "metadata": {},
   "source": [
    "Sigmoid:\n",
    "    Output range: (0,1)\n",
    "\n",
    "    Formula: o(x) = 1 / 1+ e^-x\n",
    "\n",
    "    Used binary classification tesk\n",
    "\n",
    "Tanh:\n",
    "    Output range (-1,1)\n",
    "\n",
    "    Formula: tanh(x) = e^x / e^x + e^x\n",
    "\n",
    "    Used in hidden layers\n",
    "\n",
    "ReLU (Restricted Linear Unit):\n",
    "    Output range: (0, nieskonczonosc)\n",
    "\n",
    "    Formula: ReLU(x) = max(0,x)\n",
    "\n",
    "    Simple and effective\n",
    "\n",
    "Softmax:\n",
    "    Convert logic to propabilities for multi-class classification\n",
    "\n",
    "    Formula: Softmax(xi) ? e^xi / E e^xj"
   ]
  },
  {
   "cell_type": "code",
   "execution_count": 150,
   "id": "534767ba",
   "metadata": {},
   "outputs": [],
   "source": [
    "import torch.nn.functional as F\n",
    "\n",
    "semple_tensor = torch.tensor([-1.0,0.0,1.0,2.0])  # Create a sample tensor"
   ]
  },
  {
   "cell_type": "code",
   "execution_count": 151,
   "id": "18cb5cc9",
   "metadata": {},
   "outputs": [],
   "source": [
    "relu_output = F.relu(semple_tensor)  # Apply ReLU activation function"
   ]
  },
  {
   "cell_type": "code",
   "execution_count": 152,
   "id": "519c7f49",
   "metadata": {},
   "outputs": [
    {
     "data": {
      "text/plain": [
       "tensor([0., 0., 1., 2.])"
      ]
     },
     "execution_count": 152,
     "metadata": {},
     "output_type": "execute_result"
    }
   ],
   "source": [
    "relu_output"
   ]
  },
  {
   "cell_type": "markdown",
   "id": "0ca8de31",
   "metadata": {},
   "source": [
    "Mean Squared Error:\n",
    "    Used for regression task\n",
    "\n",
    "Binary Cross-Entropy: Used for binary classification tasks\n",
    "\n",
    "Categorical Cross-Entropy: Used for multi-class classification tasks"
   ]
  },
  {
   "cell_type": "code",
   "execution_count": 153,
   "id": "fa0e97b7",
   "metadata": {},
   "outputs": [],
   "source": [
    "y_true = torch.tensor([1.0, 0.0, 1.0, 0.0, 1.0])  # True labels for binary classification\n",
    "y_pred = torch.tensor([0.8, 0.2, 0.6, 0.9, 0.3])  # Predicted labels for binary classification\n"
   ]
  },
  {
   "cell_type": "code",
   "execution_count": 154,
   "id": "f5ce3e82",
   "metadata": {},
   "outputs": [],
   "source": [
    "loss = F.mse_loss(y_pred, y_true)  # Compute Mean Squared Error loss\n"
   ]
  },
  {
   "cell_type": "code",
   "execution_count": 155,
   "id": "06ae177d",
   "metadata": {},
   "outputs": [
    {
     "data": {
      "text/plain": [
       "tensor(0.3080)"
      ]
     },
     "execution_count": 155,
     "metadata": {},
     "output_type": "execute_result"
    }
   ],
   "source": [
    "loss"
   ]
  },
  {
   "cell_type": "markdown",
   "id": "723bd25b",
   "metadata": {},
   "source": [
    "SGD Stochatic Gradient Descent"
   ]
  },
  {
   "cell_type": "markdown",
   "id": "d4f54d3e",
   "metadata": {},
   "source": [
    "Forward Pass\n",
    "Comput Loss\n",
    "Backward Pass\n",
    "Update Parameters"
   ]
  },
  {
   "cell_type": "code",
   "execution_count": null,
   "id": "3c49a1b9",
   "metadata": {},
   "outputs": [],
   "source": [
    "for epoch in range(n_epochs):\n",
    "\n",
    "    output = model(input_data) # Forward pass through the\n",
    "\n",
    "    loss = loss_function(output, target)  # Compute the loss\n",
    "\n",
    "    optimizer.zero_grad()  # Zero out the gradients\n",
    "    loss.backward()  # Backward pass to compute gradients\n",
    "    optimizer.step()  # Update the model parameters"
   ]
  },
  {
   "cell_type": "markdown",
   "id": "4fe1df73",
   "metadata": {},
   "source": [
    "# Train a Neutral Network"
   ]
  },
  {
   "cell_type": "code",
   "execution_count": 62,
   "id": "eef969f2",
   "metadata": {},
   "outputs": [],
   "source": [
    "import torch"
   ]
  },
  {
   "cell_type": "code",
   "execution_count": 63,
   "id": "fe1c5b05",
   "metadata": {},
   "outputs": [],
   "source": [
    "n_samples = 1000  # Number of samples for training\n",
    "x = torch.randn(n_samples, 1) * 10  # Generate random input data\n",
    "y = 2 * x + 1 + torch.randn(n_samples, 1) # Generate target values with some noise"
   ]
  },
  {
   "cell_type": "code",
   "execution_count": 64,
   "id": "69d90b5e",
   "metadata": {},
   "outputs": [],
   "source": [
    "import torch.nn as nn"
   ]
  },
  {
   "cell_type": "code",
   "execution_count": 65,
   "id": "73bb7bbe",
   "metadata": {},
   "outputs": [],
   "source": [
    "class SimpleFeedForward(nn.Module):\n",
    "    def __init__(self):\n",
    "        super(SimpleFeedForward, self).__init__()\n",
    "\n",
    "        self.fc1 = nn.Linear(1, 10) # First layer with input_size inputs and hidden_size outputs\n",
    "        self.relu = nn.ReLU()  # ReLU activation function\n",
    "        self.fc2 = nn.Linear(10, 1)  # Second layer with hidden_size inputs and output_size outputs\n",
    "\n",
    "    def forward(self, x):\n",
    "        \n",
    "        out = self.fc1(x)\n",
    "        out = self.relu(out)\n",
    "        out = self.fc2(out)  # Forward pass through the second layer\n",
    "        \n",
    "        return out  # Return the output of the model"
   ]
  },
  {
   "cell_type": "code",
   "execution_count": 66,
   "id": "b7b98d4e",
   "metadata": {},
   "outputs": [],
   "source": [
    "model = SimpleFeedForward()"
   ]
  },
  {
   "cell_type": "code",
   "execution_count": 67,
   "id": "e88f653a",
   "metadata": {},
   "outputs": [],
   "source": [
    "loss_function = nn.MSELoss()  # Mean Squared Error loss function"
   ]
  },
  {
   "cell_type": "code",
   "execution_count": 68,
   "id": "2691e6e3",
   "metadata": {},
   "outputs": [],
   "source": [
    "optimizer = torch.optim.SGD(model.parameters(), lr = 0.01)  # Stochastic Gradient Descent optimizer"
   ]
  },
  {
   "cell_type": "code",
   "execution_count": 69,
   "id": "bafa0aff",
   "metadata": {},
   "outputs": [],
   "source": [
    "n_epochs = 1000  # Number of epochs for training"
   ]
  },
  {
   "cell_type": "code",
   "execution_count": 70,
   "id": "695150c2",
   "metadata": {},
   "outputs": [],
   "source": [
    "loss_values = []  # Initialize an empty list to store loss values"
   ]
  },
  {
   "cell_type": "code",
   "execution_count": 71,
   "id": "17dc36db",
   "metadata": {},
   "outputs": [
    {
     "name": "stdout",
     "output_type": "stream",
     "text": [
      "Epoch [50/1000], Loss: nan\n",
      "Epoch [100/1000], Loss: nan\n",
      "Epoch [150/1000], Loss: nan\n",
      "Epoch [200/1000], Loss: nan\n",
      "Epoch [250/1000], Loss: nan\n",
      "Epoch [300/1000], Loss: nan\n",
      "Epoch [350/1000], Loss: nan\n",
      "Epoch [400/1000], Loss: nan\n",
      "Epoch [450/1000], Loss: nan\n",
      "Epoch [500/1000], Loss: nan\n",
      "Epoch [550/1000], Loss: nan\n",
      "Epoch [600/1000], Loss: nan\n",
      "Epoch [650/1000], Loss: nan\n",
      "Epoch [700/1000], Loss: nan\n",
      "Epoch [750/1000], Loss: nan\n",
      "Epoch [800/1000], Loss: nan\n",
      "Epoch [850/1000], Loss: nan\n",
      "Epoch [900/1000], Loss: nan\n",
      "Epoch [950/1000], Loss: nan\n",
      "Epoch [1000/1000], Loss: nan\n"
     ]
    }
   ],
   "source": [
    "for epoch in range(n_epochs):\n",
    "    model.train()  # Set the model to training mode\n",
    "\n",
    "    output = model(x)  # Forward pass through the model\n",
    "\n",
    "    loss = loss_function(output, y)  # Compute the loss\n",
    "\n",
    "    optimizer.zero_grad()  # Zero out the gradients\n",
    "\n",
    "    loss.backward()  # Backward pass to compute gradients\n",
    "\n",
    "    optimizer.step()  # Update the model parameters\n",
    "\n",
    "    loss_values.append(loss.item())  # Append the loss value to the list\n",
    "\n",
    "    if (epoch+1) % 50 == 0: # Print loss every 50 epochs\n",
    "        print(f'Epoch [{epoch+1}/{n_epochs}], Loss: {loss.item():.4f}')"
   ]
  },
  {
   "cell_type": "code",
   "execution_count": 72,
   "id": "e22c6f92",
   "metadata": {},
   "outputs": [
    {
     "data": {
      "image/png": "[encoded data removed]",
      "text/plain": [
       "<Figure size 640x480 with 1 Axes>"
      ]
     },
     "metadata": {},
     "output_type": "display_data"
    }
   ],
   "source": [
    "# Now plot the loss values\n",
    "plt.plot(range(n_epochs), loss_values, label='Training Loss')  # Plot the loss over epochs\n",
    "plt.xlabel('Epochs')\n",
    "plt.ylabel('Loss')\n",
    "plt.title('Training Loss Over Epochs')\n",
    "plt.legend()\n",
    "plt.show()  # Show the plot"
   ]
  },
  {
   "cell_type": "code",
   "execution_count": 73,
   "id": "3f250279",
   "metadata": {},
   "outputs": [],
   "source": [
    "torch.save(model.state_dict(), 'simple_feed_forward_nn.pth')  # Save the model parameters"
   ]
  },
  {
   "cell_type": "code",
   "execution_count": 78,
   "id": "07aa9413",
   "metadata": {},
   "outputs": [],
   "source": [
    "class Loaded_Model(nn.Module):\n",
    "    def __init__(self):\n",
    "        super(Loaded_Model, self).__init__()\n",
    "\n",
    "        self.fc1 = nn.Linear(1, 10) # First layer with input_size inputs and hidden_size outputs\n",
    "        self.relu = nn.ReLU()  # ReLU activation function\n",
    "        self.fc2 = nn.Linear(10, 1)  # Second layer with hidden_size inputs and output_size outputs\n",
    "\n",
    "    def forward(self, x):\n",
    "        \n",
    "        out = self.fc1(x)\n",
    "        out = self.relu(out)\n",
    "        out = self.fc2(out)  # Forward pass through the second layer\n",
    "        \n",
    "        return out  # Return the output of the model"
   ]
  },
  {
   "cell_type": "code",
   "execution_count": 79,
   "id": "607089e4",
   "metadata": {},
   "outputs": [],
   "source": [
    "loaded_model = Loaded_Model()"
   ]
  },
  {
   "cell_type": "code",
   "execution_count": 80,
   "id": "8e3a38f2",
   "metadata": {},
   "outputs": [
    {
     "data": {
      "text/plain": [
       "<All keys matched successfully>"
      ]
     },
     "execution_count": 80,
     "metadata": {},
     "output_type": "execute_result"
    }
   ],
   "source": [
    "loaded_model.load_state_dict(torch.load('simple_feed_forward_nn.pth'))  # Load the saved model parameters"
   ]
  },
  {
   "cell_type": "code",
   "execution_count": 81,
   "id": "37ccce61",
   "metadata": {},
   "outputs": [
    {
     "data": {
      "text/plain": [
       "Loaded_Model(\n",
       "  (fc1): Linear(in_features=1, out_features=10, bias=True)\n",
       "  (relu): ReLU()\n",
       "  (fc2): Linear(in_features=10, out_features=1, bias=True)\n",
       ")"
      ]
     },
     "execution_count": 81,
     "metadata": {},
     "output_type": "execute_result"
    }
   ],
   "source": [
    "loaded_model.eval()  # Set the model to evaluation mode"
   ]
  },
  {
   "cell_type": "markdown",
   "id": "263702b6",
   "metadata": {},
   "source": [
    "Dropout\n",
    "Batch Normalization"
   ]
  },
  {
   "cell_type": "code",
   "execution_count": 82,
   "id": "205b7a98",
   "metadata": {},
   "outputs": [],
   "source": [
    "example = torch.tensor([[2.0]])  # Create an example input tensor"
   ]
  },
  {
   "cell_type": "code",
   "execution_count": 83,
   "id": "bacde48a",
   "metadata": {},
   "outputs": [
    {
     "data": {
      "text/plain": [
       "tensor([[nan]], grad_fn=<AddmmBackward0>)"
      ]
     },
     "execution_count": 83,
     "metadata": {},
     "output_type": "execute_result"
    }
   ],
   "source": [
    "loaded_model(example)  # Make a prediction with the loaded model"
   ]
  },
  {
   "cell_type": "code",
   "execution_count": null,
   "id": "acf1749d",
   "metadata": {},
   "outputs": [],
   "source": []
  }
 ],
 "metadata": {
  "kernelspec": {
   "display_name": ".venv",
   "language": "python",
   "name": "python3"
  },
  "language_info": {
   "codemirror_mode": {
    "name": "ipython",
    "version": 3
   },
   "file_extension": ".py",
   "mimetype": "text/x-python",
   "name": "python",
   "nbconvert_exporter": "python",
   "pygments_lexer": "ipython3",
   "version": "3.12.3"
  }
 },
 "nbformat": 4,
 "nbformat_minor": 5
}
